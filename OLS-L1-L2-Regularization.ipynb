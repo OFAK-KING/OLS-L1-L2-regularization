{
 "cells": [
  {
   "cell_type": "code",
   "execution_count": 26,
   "metadata": {},
   "outputs": [],
   "source": [
    "# Importing the libraries\n",
    "import numpy as np\n",
    "import pandas as pd\n",
    "from sklearn import preprocessing\n",
    "from sklearn.linear_model import Ridge, RidgeCV, LassoCV, LinearRegression\n",
    "from sklearn.metrics import mean_squared_error"
   ]
  },
  {
   "cell_type": "code",
   "execution_count": 27,
   "metadata": {},
   "outputs": [
    {
     "data": {
      "text/html": [
       "<div>\n",
       "<style scoped>\n",
       "    .dataframe tbody tr th:only-of-type {\n",
       "        vertical-align: middle;\n",
       "    }\n",
       "\n",
       "    .dataframe tbody tr th {\n",
       "        vertical-align: top;\n",
       "    }\n",
       "\n",
       "    .dataframe thead th {\n",
       "        text-align: right;\n",
       "    }\n",
       "</style>\n",
       "<table border=\"1\" class=\"dataframe\">\n",
       "  <thead>\n",
       "    <tr style=\"text-align: right;\">\n",
       "      <th></th>\n",
       "      <th>month_3</th>\n",
       "      <th>day_of_week_0</th>\n",
       "      <th>temp</th>\n",
       "      <th>skies_0</th>\n",
       "      <th>bobblehead_0</th>\n",
       "    </tr>\n",
       "  </thead>\n",
       "  <tbody>\n",
       "    <tr>\n",
       "      <th>0</th>\n",
       "      <td>1</td>\n",
       "      <td>1</td>\n",
       "      <td>72</td>\n",
       "      <td>1</td>\n",
       "      <td>0</td>\n",
       "    </tr>\n",
       "  </tbody>\n",
       "</table>\n",
       "</div>"
      ],
      "text/plain": [
       "   month_3  day_of_week_0  temp  skies_0  bobblehead_0\n",
       "0        1              1    72        1             0"
      ]
     },
     "execution_count": 27,
     "metadata": {},
     "output_type": "execute_result"
    }
   ],
   "source": [
    "# Importing the training dataset\n",
    "Dataset = pd.read_csv('dodgers_training.csv')\n",
    "#Dataset\n",
    "\n",
    "#importing the testing dataset\n",
    "Test_Dataset = pd.read_csv('dodgers_testing.csv')\n",
    "#Test_Dataset\n",
    "\n",
    "#importing the predicted dataset\n",
    "Pred = pd.read_csv('predict.csv')\n",
    "Pred"
   ]
  },
  {
   "cell_type": "code",
   "execution_count": 28,
   "metadata": {},
   "outputs": [],
   "source": [
    "#selecting the needed columns of trainng set for the analysis\n",
    "#Dependant variable selection\n",
    "Dependant = Dataset.loc[:,['attend']]\n",
    "\n",
    "#Independent variable selection\n",
    "Independent = Dataset.loc[:,['month','day_of_week','temp','skies','bobblehead']]\n",
    "\n",
    "#selecting the needed columns of test set for the analysis\n",
    "#Dependant variable selection\n",
    "Test_Dependant = Test_Dataset.loc[:,['attend']]\n",
    "\n",
    "#Independent variable selection\n",
    "Test_Independent = Test_Dataset.loc[:,['month','day_of_week','temp','skies','bobblehead']]\n",
    "#Test_Independent"
   ]
  },
  {
   "cell_type": "markdown",
   "metadata": {},
   "source": [
    "Data Preprocessing; Encoding categorical data"
   ]
  },
  {
   "cell_type": "code",
   "execution_count": 29,
   "metadata": {},
   "outputs": [],
   "source": [
    "#check data type of training set and transform them to codeable data type\n",
    "#print(Independent.dtypes)\n",
    "Independent['month'] = Independent['month'].astype('category')\n",
    "Independent['day_of_week'] = Independent['day_of_week'].astype('category')\n",
    "Independent['bobblehead'] = Independent['bobblehead'].astype('category')\n",
    "Independent['skies'] = Independent['skies'].astype('category')\n",
    "#print(Independent.dtypes)\n",
    "\n",
    "#check data type of test set and transform them to codeable data type\n",
    "Test_Independent['month'] = Test_Independent['month'].astype('category')\n",
    "Test_Independent['day_of_week'] = Test_Independent['day_of_week'].astype('category')\n",
    "Test_Independent['bobblehead'] = Test_Independent['bobblehead'].astype('category')\n",
    "Test_Independent['skies'] = Test_Independent['skies'].astype('category')\n",
    "#print(Test_Independent.dtypes)"
   ]
  },
  {
   "cell_type": "code",
   "execution_count": 30,
   "metadata": {},
   "outputs": [],
   "source": [
    "#Transforming training set needed variables to codeable data type\n",
    "Independent['month'] = Independent['month'].cat.codes\n",
    "Independent['day_of_week'] = Independent['day_of_week'].cat.codes\n",
    "Independent['bobblehead'] = Independent['bobblehead'].cat.codes\n",
    "Independent['skies'] = Independent['skies'].cat.codes\n",
    "\n",
    "#Checking few sample of the dataset to see if it is coded as expected\n",
    "Independent.head()\n",
    "\n",
    "#Transforming test set needed variables to codeable data type\n",
    "Test_Independent['month'] = Test_Independent['month'].cat.codes\n",
    "Test_Independent['day_of_week'] = Test_Independent['day_of_week'].cat.codes\n",
    "Test_Independent['bobblehead'] = Test_Independent['bobblehead'].cat.codes\n",
    "Test_Independent['skies'] = Test_Independent['skies'].cat.codes\n",
    "\n",
    "#Checking few sample of the dataset to see if it is coded as expected\n",
    "#print(Test_Independent)"
   ]
  },
  {
   "cell_type": "code",
   "execution_count": 31,
   "metadata": {},
   "outputs": [],
   "source": [
    "#leveling out the training set encoded categories to numerically equal for all possibile choices  \n",
    "Independent_onehot = Independent\n",
    "Independent_onehot = pd.get_dummies(Independent_onehot,\n",
    "                                    columns=['month',\n",
    "                                             'day_of_week',\n",
    "                                             'bobblehead', \n",
    "                                             'skies'], \n",
    "                                    prefix = ['month', \n",
    "                                              'day_of_week',\n",
    "                                              'bobblehead', \n",
    "                                              'skies'])\n",
    "#print(Independent_onehot.head())\n",
    "\n",
    "#leveling out the test set encoded categories to numerically equal for all possibil choices\n",
    "Test_Independent_onehot = Test_Independent\n",
    "Test_Independent_onehot = pd.get_dummies(Test_Independent_onehot,\n",
    "                                    columns=['month',\n",
    "                                             'day_of_week',\n",
    "                                             'bobblehead', \n",
    "                                             'skies'], \n",
    "                                    prefix = ['month', \n",
    "                                              'day_of_week',\n",
    "                                              'bobblehead', \n",
    "                                              'skies'])\n",
    "#print(Independent_onehot.head())"
   ]
  },
  {
   "cell_type": "code",
   "execution_count": 33,
   "metadata": {},
   "outputs": [],
   "source": [
    "#Training set and Testing set shape and dimension manipulations to make them equalin size  \n",
    "Diff_shape = set(Independent_onehot) - set(Test_Independent_onehot)\n",
    "Diff_shape1 = pd.DataFrame(data = np.zeros((Test_Independent_onehot.shape[0], len(Diff_shape))), columns = list(Diff_shape))\n",
    "Test_Independent_onehot = Test_Independent_onehot.join(Diff_shape1)\n",
    "\n",
    "#Training set and Predicted set shape and dimension manipulations to make them equalin size\n",
    "Diff_shape_p = set(Independent_onehot) - set(Pred)\n",
    "Diff_shape_p = pd.DataFrame(data = np.zeros((Pred.shape[0], len(Diff_shape_p))), columns = list(Diff_shape_p))\n",
    "Pred = Pred.join(Diff_shape_p)"
   ]
  },
  {
   "cell_type": "code",
   "execution_count": 34,
   "metadata": {},
   "outputs": [
    {
     "name": "stdout",
     "output_type": "stream",
     "text": [
      "The standard deviation for Training set attributes are: temp             8.949207\n",
      "month_0          0.370591\n",
      "month_1          0.414039\n",
      "month_2          0.287736\n",
      "month_3          0.287736\n",
      "month_4          0.426021\n",
      "month_5          0.133631\n",
      "month_6          0.400892\n",
      "day_of_week_0    0.386459\n",
      "day_of_week_1    0.353094\n",
      "day_of_week_2    0.370591\n",
      "day_of_week_3    0.400892\n",
      "day_of_week_4    0.287736\n",
      "day_of_week_5    0.287736\n",
      "day_of_week_6    0.353094\n",
      "bobblehead_0     0.287736\n",
      "bobblehead_1     0.287736\n",
      "skies_0          0.400892\n",
      "skies_1          0.400892\n",
      "dtype: float64\n",
      "The Mean for Training set attributes are: temp             73.642857\n",
      "month_0           0.160714\n",
      "month_1           0.214286\n",
      "month_2           0.089286\n",
      "month_3           0.089286\n",
      "month_4           0.232143\n",
      "month_5           0.017857\n",
      "month_6           0.196429\n",
      "day_of_week_0     0.178571\n",
      "day_of_week_1     0.142857\n",
      "day_of_week_2     0.160714\n",
      "day_of_week_3     0.196429\n",
      "day_of_week_4     0.089286\n",
      "day_of_week_5     0.089286\n",
      "day_of_week_6     0.142857\n",
      "bobblehead_0      0.910714\n",
      "bobblehead_1      0.089286\n",
      "skies_0           0.803571\n",
      "skies_1           0.196429\n",
      "dtype: float64\n",
      "The standard deviation for Test set attributes are: temp             6.723590\n",
      "month_0          0.331662\n",
      "month_1          0.331662\n",
      "month_2          0.458258\n",
      "month_3          0.374166\n",
      "month_4          0.408248\n",
      "month_5          0.276887\n",
      "month_6          0.200000\n",
      "day_of_week_0    0.331662\n",
      "day_of_week_1    0.374166\n",
      "day_of_week_2    0.374166\n",
      "day_of_week_3    0.276887\n",
      "day_of_week_4    0.476095\n",
      "day_of_week_5    0.374166\n",
      "bobblehead_0     0.435890\n",
      "bobblehead_1     0.435890\n",
      "skies_0          0.476095\n",
      "skies_1          0.476095\n",
      "day_of_week_6    0.000000\n",
      "dtype: float64\n",
      "The mean for Test set attributes are: temp             72.04\n",
      "month_0           0.12\n",
      "month_1           0.12\n",
      "month_2           0.28\n",
      "month_3           0.16\n",
      "month_4           0.20\n",
      "month_5           0.08\n",
      "month_6           0.04\n",
      "day_of_week_0     0.12\n",
      "day_of_week_1     0.16\n",
      "day_of_week_2     0.16\n",
      "day_of_week_3     0.08\n",
      "day_of_week_4     0.32\n",
      "day_of_week_5     0.16\n",
      "bobblehead_0      0.76\n",
      "bobblehead_1      0.24\n",
      "skies_0           0.68\n",
      "skies_1           0.32\n",
      "day_of_week_6     0.00\n",
      "dtype: float64\n"
     ]
    }
   ],
   "source": [
    "#Listing the means and standard deviations of the encoded attributes before scaling\n",
    "print('The standard deviation for Training set attributes are:',Independent_onehot.std())\n",
    "print('The Mean for Training set attributes are:',Independent_onehot.mean())\n",
    "print('The standard deviation for Test set attributes are:',Test_Independent_onehot.std())\n",
    "print('The mean for Test set attributes are:',Test_Independent_onehot.mean())"
   ]
  },
  {
   "cell_type": "markdown",
   "metadata": {},
   "source": [
    "standardization of variables"
   ]
  },
  {
   "cell_type": "code",
   "execution_count": 35,
   "metadata": {},
   "outputs": [
    {
     "name": "stderr",
     "output_type": "stream",
     "text": [
      "C:\\Users\\CHERPENS\\Anaconda3\\lib\\site-packages\\sklearn\\preprocessing\\data.py:625: DataConversionWarning: Data with input dtype uint8, int64 were all converted to float64 by StandardScaler.\n",
      "  return self.partial_fit(X, y)\n",
      "C:\\Users\\CHERPENS\\Anaconda3\\lib\\site-packages\\ipykernel_launcher.py:3: DataConversionWarning: Data with input dtype uint8, int64 were all converted to float64 by StandardScaler.\n",
      "  This is separate from the ipykernel package so we can avoid doing imports until\n",
      "C:\\Users\\CHERPENS\\Anaconda3\\lib\\site-packages\\sklearn\\preprocessing\\data.py:625: DataConversionWarning: Data with input dtype uint8, int64, float64 were all converted to float64 by StandardScaler.\n",
      "  return self.partial_fit(X, y)\n",
      "C:\\Users\\CHERPENS\\Anaconda3\\lib\\site-packages\\ipykernel_launcher.py:7: DataConversionWarning: Data with input dtype uint8, int64, float64 were all converted to float64 by StandardScaler.\n",
      "  import sys\n",
      "C:\\Users\\CHERPENS\\Anaconda3\\lib\\site-packages\\sklearn\\preprocessing\\data.py:625: DataConversionWarning: Data with input dtype int64, float64 were all converted to float64 by StandardScaler.\n",
      "  return self.partial_fit(X, y)\n",
      "C:\\Users\\CHERPENS\\Anaconda3\\lib\\site-packages\\ipykernel_launcher.py:21: DataConversionWarning: Data with input dtype int64, float64 were all converted to float64 by StandardScaler.\n"
     ]
    },
    {
     "data": {
      "text/plain": [
       "array([[0., 0., 0., 0., 0., 0., 0., 0., 0., 0., 0., 0., 0., 0., 0., 0.,\n",
       "        0., 0., 0.]])"
      ]
     },
     "execution_count": 35,
     "metadata": {},
     "output_type": "execute_result"
    }
   ],
   "source": [
    "#training data standardization (to regress the data mean to 0 and standard deviation to 1)\n",
    "standardize = preprocessing.StandardScaler().fit(Independent_onehot)\n",
    "Independent_onehot = standardize.transform(Independent_onehot)\n",
    "\n",
    "#testing data standardization (to regress the data mean to 0 and standard deviation to 1)\n",
    "Test_standardize = preprocessing.StandardScaler().fit(Test_Independent_onehot)\n",
    "Test_Independent_onehot = Test_standardize.transform(Test_Independent_onehot)\n",
    "\n",
    "#training data standardization for dependent (to regress the data mean to 0 and standard deviation to 1)\n",
    "#D_standardize = preprocessing.StandardScaler().fit(Dependant)\n",
    "#Dependant = D_standardize.transform(Dependant)\n",
    "\n",
    "#testing data standardization for dependent (to regress the data mean to 0 and standard deviation to 1)\n",
    "#T_D_standardize = preprocessing.StandardScaler().fit(Test_Dependant)\n",
    "#Test_Dependant = T_D_standardize.transform(Test_Dependant)\n",
    "Dependant.std()\n",
    "Dependant.mean()\n",
    "\n",
    "#standardization for predicted dataset\n",
    "Pred_standardize = preprocessing.StandardScaler().fit(Pred)\n",
    "Pred = Pred_standardize.transform(Pred)\n",
    "Pred"
   ]
  },
  {
   "cell_type": "markdown",
   "metadata": {},
   "source": [
    "Ridge Regression:\n",
    "\n",
    "Ridge() function has an alpha parameter (λ, but with a different name!) which is use to tune model. The assignment requires us to generate 100  regularization coefficients evenly spaced between 0.1 and 1000"
   ]
  },
  {
   "cell_type": "code",
   "execution_count": 36,
   "metadata": {},
   "outputs": [
    {
     "data": {
      "text/plain": [
       "(100, 1, 19)"
      ]
     },
     "execution_count": 36,
     "metadata": {},
     "output_type": "execute_result"
    }
   ],
   "source": [
    "Alphas = np.linspace(0.1,1000,100)\n",
    "# standardize variables so that they are on the same scale and store each alpha in a matrix alpha_coefs\n",
    "ridge_regression = Ridge()\n",
    "alpha_coefs = []\n",
    "RMSE1 = []\n",
    "for ind_alpha in Alphas:\n",
    "    ridge_regression.set_params(alpha = ind_alpha)\n",
    "    ridge_regression.fit(Independent_onehot, Dependant)\n",
    "    alpha_coefs.append(ridge_regression.coef_)\n",
    "    RMSE1.append(np.sqrt(mean_squared_error(Test_Dependant, ridge_regression.predict(Test_Independent_onehot))))\n",
    "np.shape(alpha_coefs)\n",
    "\n",
    "#print('the coefficient for individual alpha are:', alpha_coefs)\n",
    "#print(RMSE1)\n",
    "#print(alpha_coefs)"
   ]
  },
  {
   "cell_type": "markdown",
   "metadata": {},
   "source": [
    "But we do this using the cross-validated ridge regression function, RidgeCV() as the assignment requires of us and by default, the function performs generalized cross-validation."
   ]
  },
  {
   "cell_type": "code",
   "execution_count": 42,
   "metadata": {},
   "outputs": [
    {
     "name": "stdout",
     "output_type": "stream",
     "text": [
      "[[39664.80357143]]\n",
      "Test RMSE 9516.130738936348\n",
      "Train RMSE 5648.86421638529\n",
      "50.6\n",
      "[[  515.85380007  -273.56102806   457.54654532  -216.88248689\n",
      "   1102.57100111  -605.71237164   -75.78927596  -186.41964828\n",
      "     67.69322043  -835.67182144   490.25315842   238.14165655\n",
      "   -341.53918562  1070.28517076  -617.19884398 -1145.58152754\n",
      "   1145.58152754   271.19412682  -271.19412682]]\n"
     ]
    }
   ],
   "source": [
    "ridgecv_regression = RidgeCV(alphas = Alphas, cv = None, store_cv_values=True)\n",
    "ridgecv_regression.fit(Independent_onehot, Dependant)\n",
    "RMSE_Test = np.sqrt(mean_squared_error(Test_Dependant, ridgecv_regression.predict(Test_Independent_onehot)))\n",
    "RMSE_Train = np.sqrt(mean_squared_error(Dependant, ridgecv_regression.predict(Independent_onehot)))\n",
    "print(ridgecv_regression.predict(Pred))\n",
    "print('Test RMSE',RMSE_Test)\n",
    "print('Train RMSE',RMSE_Train)\n",
    "print(ridgecv_regression.alpha_)\n",
    "print(ridgecv_regression.coef_)"
   ]
  },
  {
   "cell_type": "markdown",
   "metadata": {},
   "source": [
    "The value of alpha that results in the smallest cross-validation error is 50.6 What is the test Root Mean Square Error (RMSE) associated with this value of alpha"
   ]
  },
  {
   "cell_type": "code",
   "execution_count": 38,
   "metadata": {},
   "outputs": [
    {
     "data": {
      "text/plain": [
       "9516.130738936348"
      ]
     },
     "execution_count": 38,
     "metadata": {},
     "output_type": "execute_result"
    }
   ],
   "source": [
    "ridge_alpha_min = Ridge(alpha = ridgecv_regression.alpha_)\n",
    "ridge_alpha_min.fit(Independent_onehot, Dependant)\n",
    "MSE = mean_squared_error(Test_Dependant, ridge_alpha_min.predict(Test_Independent_onehot))\n",
    "RMSE3 = np.sqrt(MSE)\n",
    "ridge_alpha_min.coef_\n",
    "RMSE3"
   ]
  },
  {
   "cell_type": "markdown",
   "metadata": {},
   "source": [
    "Lasso"
   ]
  },
  {
   "cell_type": "code",
   "execution_count": 39,
   "metadata": {},
   "outputs": [
    {
     "name": "stderr",
     "output_type": "stream",
     "text": [
      "C:\\Users\\CHERPENS\\Anaconda3\\lib\\site-packages\\sklearn\\linear_model\\coordinate_descent.py:1109: DataConversionWarning: A column-vector y was passed when a 1d array was expected. Please change the shape of y to (n_samples, ), for example using ravel().\n",
      "  y = column_or_1d(y, warn=True)\n",
      "C:\\Users\\CHERPENS\\Anaconda3\\lib\\site-packages\\sklearn\\linear_model\\coordinate_descent.py:492: ConvergenceWarning: Objective did not converge. You might want to increase the number of iterations. Fitting data with very small alpha may cause precision problems.\n",
      "  ConvergenceWarning)\n",
      "C:\\Users\\CHERPENS\\Anaconda3\\lib\\site-packages\\sklearn\\linear_model\\coordinate_descent.py:492: ConvergenceWarning: Objective did not converge. You might want to increase the number of iterations. Fitting data with very small alpha may cause precision problems.\n",
      "  ConvergenceWarning)\n",
      "C:\\Users\\CHERPENS\\Anaconda3\\lib\\site-packages\\sklearn\\linear_model\\coordinate_descent.py:492: ConvergenceWarning: Objective did not converge. You might want to increase the number of iterations. Fitting data with very small alpha may cause precision problems.\n",
      "  ConvergenceWarning)\n",
      "C:\\Users\\CHERPENS\\Anaconda3\\lib\\site-packages\\sklearn\\linear_model\\coordinate_descent.py:492: ConvergenceWarning: Objective did not converge. You might want to increase the number of iterations. Fitting data with very small alpha may cause precision problems.\n",
      "  ConvergenceWarning)\n",
      "C:\\Users\\CHERPENS\\Anaconda3\\lib\\site-packages\\sklearn\\linear_model\\coordinate_descent.py:492: ConvergenceWarning: Objective did not converge. You might want to increase the number of iterations. Fitting data with very small alpha may cause precision problems.\n",
      "  ConvergenceWarning)\n",
      "C:\\Users\\CHERPENS\\Anaconda3\\lib\\site-packages\\sklearn\\linear_model\\coordinate_descent.py:492: ConvergenceWarning: Objective did not converge. You might want to increase the number of iterations. Fitting data with very small alpha may cause precision problems.\n",
      "  ConvergenceWarning)\n",
      "C:\\Users\\CHERPENS\\Anaconda3\\lib\\site-packages\\sklearn\\linear_model\\coordinate_descent.py:492: ConvergenceWarning: Objective did not converge. You might want to increase the number of iterations. Fitting data with very small alpha may cause precision problems.\n",
      "  ConvergenceWarning)\n"
     ]
    },
    {
     "name": "stdout",
     "output_type": "stream",
     "text": [
      "[39664.80357143]\n",
      "[ 8.22025759e+02 -0.00000000e+00  7.53558875e+02  0.00000000e+00\n",
      "  1.93339957e+03 -1.24747783e+02 -0.00000000e+00 -0.00000000e+00\n",
      "  0.00000000e+00 -1.16694120e+03  1.74206782e+02  0.00000000e+00\n",
      " -4.80108091e+02  1.38228372e+03 -8.85403532e+02 -2.64057436e+03\n",
      "  8.44530795e-13  0.00000000e+00 -0.00000000e+00]\n",
      "484.9\n",
      "10505.395853369966\n",
      "5464.527851899147\n"
     ]
    },
    {
     "name": "stderr",
     "output_type": "stream",
     "text": [
      "C:\\Users\\CHERPENS\\Anaconda3\\lib\\site-packages\\sklearn\\linear_model\\coordinate_descent.py:492: ConvergenceWarning: Objective did not converge. You might want to increase the number of iterations. Fitting data with very small alpha may cause precision problems.\n",
      "  ConvergenceWarning)\n",
      "C:\\Users\\CHERPENS\\Anaconda3\\lib\\site-packages\\sklearn\\linear_model\\coordinate_descent.py:492: ConvergenceWarning: Objective did not converge. You might want to increase the number of iterations. Fitting data with very small alpha may cause precision problems.\n",
      "  ConvergenceWarning)\n"
     ]
    }
   ],
   "source": [
    "lassocv_regression = LassoCV(alphas = Alphas, cv = 56)\n",
    "lassocv_regression.fit(Independent_onehot, Dependant)\n",
    "RMSE_Test_l1 = np.sqrt(mean_squared_error(Test_Dependant, lassocv_regression.predict(Test_Independent_onehot)))\n",
    "RMSE_Train_l1 = np.sqrt(mean_squared_error(Dependant, lassocv_regression.predict(Independent_onehot)))\n",
    "print(lassocv_regression.predict(Pred))\n",
    "print(lassocv_regression.coef_)\n",
    "print(lassocv_regression.alpha_)\n",
    "print(RMSE_Test_l1)\n",
    "print(RMSE_Train_l1)"
   ]
  },
  {
   "cell_type": "code",
   "execution_count": 40,
   "metadata": {},
   "outputs": [
    {
     "data": {
      "text/plain": [
       "484.9"
      ]
     },
     "execution_count": 40,
     "metadata": {},
     "output_type": "execute_result"
    }
   ],
   "source": [
    "lassocv_regression.alpha_"
   ]
  },
  {
   "cell_type": "markdown",
   "metadata": {},
   "source": [
    "Training a linear model without regularization"
   ]
  },
  {
   "cell_type": "code",
   "execution_count": 41,
   "metadata": {},
   "outputs": [
    {
     "name": "stdout",
     "output_type": "stream",
     "text": [
      "[[39664.80357143]]\n",
      "9650.899914012849\n",
      "5254.5387249249425\n",
      "[[ 1235.03246476  -343.8027503    601.96103584    43.1056148\n",
      "   2169.80356758  -807.51726458  -700.46213412  -800.55910692\n",
      "    285.11158699 -1540.71334797   758.96677388   439.79660841\n",
      "   -874.86349458  2171.01352368 -1123.4801632  -1406.04880772\n",
      "   1406.04880772   -15.48024918    15.48024918]]\n"
     ]
    }
   ],
   "source": [
    "LinMod = LinearRegression()\n",
    "LinMod.fit(Independent_onehot, Dependant)\n",
    "print(LinMod.predict(Pred))\n",
    "RMSE_Test_lm = np.sqrt(mean_squared_error(Test_Dependant, LinMod.predict(Test_Independent_onehot)))\n",
    "RMSE_Train_lm = np.sqrt(mean_squared_error(Dependant, LinMod.predict(Independent_onehot)))\n",
    "print(RMSE_Test_lm )\n",
    "print(RMSE_Train_lm)\n",
    "print(LinMod.coef_)"
   ]
  },
  {
   "cell_type": "code",
   "execution_count": null,
   "metadata": {},
   "outputs": [],
   "source": []
  }
 ],
 "metadata": {
  "kernelspec": {
   "display_name": "Python 3",
   "language": "python",
   "name": "python3"
  },
  "language_info": {
   "codemirror_mode": {
    "name": "ipython",
    "version": 3
   },
   "file_extension": ".py",
   "mimetype": "text/x-python",
   "name": "python",
   "nbconvert_exporter": "python",
   "pygments_lexer": "ipython3",
   "version": "3.6.8"
  }
 },
 "nbformat": 4,
 "nbformat_minor": 2
}
